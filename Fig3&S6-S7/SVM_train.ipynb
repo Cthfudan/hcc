{
 "cells": [
  {
   "cell_type": "code",
   "execution_count": 33,
   "id": "c7633c24-d394-44cf-9842-693c4aea612c",
   "metadata": {
    "tags": []
   },
   "outputs": [],
   "source": [
    "# train a SVM classifier on human data\n",
    "import scanpy as sc\n",
    "import numpy as np\n",
    "import pandas as pd\n",
    "from matplotlib.colors import Normalize"
   ]
  },
  {
   "cell_type": "code",
   "execution_count": 34,
   "id": "17e51a47-680d-4240-85bb-5a308a4f7403",
   "metadata": {},
   "outputs": [],
   "source": [
    "# Train a SVM model on human dataset"
   ]
  },
  {
   "cell_type": "code",
   "execution_count": 35,
   "id": "07cdd017-7ded-4d02-9a40-7e734ac78f85",
   "metadata": {},
   "outputs": [],
   "source": [
    "# import data \n",
    "train_file = \"/home/chutianhao/R/Projects/snRNA_scRNA_hcc/project/svm/data/sc_human_train.h5ad\"\n",
    "adata_train = sc.read_h5ad(train_file)"
   ]
  },
  {
   "cell_type": "code",
   "execution_count": 36,
   "id": "77fc1e16-6dd4-4d08-9813-7df874f9cfc4",
   "metadata": {
    "tags": []
   },
   "outputs": [
    {
     "data": {
      "text/plain": [
       "AnnData object with n_obs × n_vars = 3395 × 300\n",
       "    obs: 'nCount_RNA', 'nFeature_RNA', 'patient_id', 'condition', 'mt_ratio', 'ribo_ratio', 'S.Score', 'G2M.Score', 'Phase', 'clusters', 'clusters_2'\n",
       "    var: 'vst.mean', 'vst.variance', 'vst.variance.expected', 'vst.variance.standardized'\n",
       "    obsm: 'X_pca', 'X_scanvi', 'X_scvi', 'X_umap'"
      ]
     },
     "execution_count": 36,
     "metadata": {},
     "output_type": "execute_result"
    }
   ],
   "source": [
    "adata_train"
   ]
  },
  {
   "cell_type": "code",
   "execution_count": 37,
   "id": "ef984bfe-7db7-4098-919b-472a09e69a13",
   "metadata": {},
   "outputs": [],
   "source": [
    "# prepare training data\n",
    "X = adata_train.X.copy()\n",
    "Y = adata_train.obs.copy()"
   ]
  },
  {
   "cell_type": "code",
   "execution_count": 38,
   "id": "f299c64b-fef8-48af-a3df-7842669ec892",
   "metadata": {
    "tags": []
   },
   "outputs": [],
   "source": [
    "group = \"clusters_2\"\n",
    "Y = Y.loc[:, group]"
   ]
  },
  {
   "cell_type": "code",
   "execution_count": 39,
   "id": "62320abf-4865-43b0-8cb2-af15f440e006",
   "metadata": {
    "tags": []
   },
   "outputs": [],
   "source": [
    "Y = Y.values.to_list()"
   ]
  },
  {
   "cell_type": "code",
   "execution_count": 40,
   "id": "89bc92c4-631b-474c-8171-398000b145f7",
   "metadata": {
    "tags": []
   },
   "outputs": [],
   "source": [
    "# scale the data before training\n",
    "from sklearn.preprocessing import StandardScaler"
   ]
  },
  {
   "cell_type": "code",
   "execution_count": 41,
   "id": "bffe5a9a-3f7f-46ff-9c7c-def8aa2f605e",
   "metadata": {
    "tags": []
   },
   "outputs": [],
   "source": [
    "X = X.toarray()\n",
    "scaler = StandardScaler()\n",
    "X = scaler.fit_transform(X)"
   ]
  },
  {
   "cell_type": "code",
   "execution_count": 42,
   "id": "54e1d988-582b-4e4f-91ba-7a196a075389",
   "metadata": {
    "tags": []
   },
   "outputs": [],
   "source": [
    "# search the best C and gamma values, using grid search"
   ]
  },
  {
   "cell_type": "code",
   "execution_count": 43,
   "id": "f2a37cdc-06bd-4fed-b0c2-c0bda5c46935",
   "metadata": {
    "tags": []
   },
   "outputs": [],
   "source": [
    "from sklearn.svm import SVC\n",
    "from sklearn.model_selection import StratifiedShuffleSplit\n",
    "from sklearn.model_selection import GridSearchCV"
   ]
  },
  {
   "cell_type": "code",
   "execution_count": 12,
   "id": "517a4812-294d-415a-a399-4d087627a6e4",
   "metadata": {
    "tags": []
   },
   "outputs": [
    {
     "name": "stdout",
     "output_type": "stream",
     "text": [
      "The best parameters are {'C': 100.0, 'gamma': 0.001} with a score of 0.85\n"
     ]
    }
   ],
   "source": [
    "C_range = np.logspace(-2, 7, 10)\n",
    "gamma_range = np.logspace(-9, 0, 10)\n",
    "param_grid = dict(gamma=gamma_range, C=C_range)\n",
    "cv = StratifiedShuffleSplit(n_splits=5, test_size=0.2, random_state=42)\n",
    "grid = GridSearchCV(SVC(cache_size=400000), param_grid=param_grid, cv=cv)\n",
    "grid.fit(X, Y)\n",
    "\n",
    "print(\n",
    "    \"The best parameters are %s with a score of %0.2f\"\n",
    "    % (grid.best_params_, grid.best_score_)\n",
    ")"
   ]
  },
  {
   "cell_type": "code",
   "execution_count": 1,
   "id": "e285d98a-69a9-4207-b542-d71602a831e2",
   "metadata": {
    "tags": []
   },
   "outputs": [],
   "source": [
    "# train the classifier with RBF kernel\n",
    "from sklearn import svm "
   ]
  },
  {
   "cell_type": "code",
   "execution_count": 45,
   "id": "85c56495-29d2-4a76-9ce4-281313e62267",
   "metadata": {
    "tags": []
   },
   "outputs": [],
   "source": [
    "clf = svm.SVC(kernel='rbf', C = 100, gamma=0.001, cache_size=400000, probability=True)"
   ]
  },
  {
   "cell_type": "code",
   "execution_count": 46,
   "id": "bdd7b9bb-f893-452d-baee-0bd44b7f52cc",
   "metadata": {
    "tags": []
   },
   "outputs": [
    {
     "data": {
      "text/html": [
       "<style>#sk-container-id-2 {color: black;background-color: white;}#sk-container-id-2 pre{padding: 0;}#sk-container-id-2 div.sk-toggleable {background-color: white;}#sk-container-id-2 label.sk-toggleable__label {cursor: pointer;display: block;width: 100%;margin-bottom: 0;padding: 0.3em;box-sizing: border-box;text-align: center;}#sk-container-id-2 label.sk-toggleable__label-arrow:before {content: \"▸\";float: left;margin-right: 0.25em;color: #696969;}#sk-container-id-2 label.sk-toggleable__label-arrow:hover:before {color: black;}#sk-container-id-2 div.sk-estimator:hover label.sk-toggleable__label-arrow:before {color: black;}#sk-container-id-2 div.sk-toggleable__content {max-height: 0;max-width: 0;overflow: hidden;text-align: left;background-color: #f0f8ff;}#sk-container-id-2 div.sk-toggleable__content pre {margin: 0.2em;color: black;border-radius: 0.25em;background-color: #f0f8ff;}#sk-container-id-2 input.sk-toggleable__control:checked~div.sk-toggleable__content {max-height: 200px;max-width: 100%;overflow: auto;}#sk-container-id-2 input.sk-toggleable__control:checked~label.sk-toggleable__label-arrow:before {content: \"▾\";}#sk-container-id-2 div.sk-estimator input.sk-toggleable__control:checked~label.sk-toggleable__label {background-color: #d4ebff;}#sk-container-id-2 div.sk-label input.sk-toggleable__control:checked~label.sk-toggleable__label {background-color: #d4ebff;}#sk-container-id-2 input.sk-hidden--visually {border: 0;clip: rect(1px 1px 1px 1px);clip: rect(1px, 1px, 1px, 1px);height: 1px;margin: -1px;overflow: hidden;padding: 0;position: absolute;width: 1px;}#sk-container-id-2 div.sk-estimator {font-family: monospace;background-color: #f0f8ff;border: 1px dotted black;border-radius: 0.25em;box-sizing: border-box;margin-bottom: 0.5em;}#sk-container-id-2 div.sk-estimator:hover {background-color: #d4ebff;}#sk-container-id-2 div.sk-parallel-item::after {content: \"\";width: 100%;border-bottom: 1px solid gray;flex-grow: 1;}#sk-container-id-2 div.sk-label:hover label.sk-toggleable__label {background-color: #d4ebff;}#sk-container-id-2 div.sk-serial::before {content: \"\";position: absolute;border-left: 1px solid gray;box-sizing: border-box;top: 0;bottom: 0;left: 50%;z-index: 0;}#sk-container-id-2 div.sk-serial {display: flex;flex-direction: column;align-items: center;background-color: white;padding-right: 0.2em;padding-left: 0.2em;position: relative;}#sk-container-id-2 div.sk-item {position: relative;z-index: 1;}#sk-container-id-2 div.sk-parallel {display: flex;align-items: stretch;justify-content: center;background-color: white;position: relative;}#sk-container-id-2 div.sk-item::before, #sk-container-id-2 div.sk-parallel-item::before {content: \"\";position: absolute;border-left: 1px solid gray;box-sizing: border-box;top: 0;bottom: 0;left: 50%;z-index: -1;}#sk-container-id-2 div.sk-parallel-item {display: flex;flex-direction: column;z-index: 1;position: relative;background-color: white;}#sk-container-id-2 div.sk-parallel-item:first-child::after {align-self: flex-end;width: 50%;}#sk-container-id-2 div.sk-parallel-item:last-child::after {align-self: flex-start;width: 50%;}#sk-container-id-2 div.sk-parallel-item:only-child::after {width: 0;}#sk-container-id-2 div.sk-dashed-wrapped {border: 1px dashed gray;margin: 0 0.4em 0.5em 0.4em;box-sizing: border-box;padding-bottom: 0.4em;background-color: white;}#sk-container-id-2 div.sk-label label {font-family: monospace;font-weight: bold;display: inline-block;line-height: 1.2em;}#sk-container-id-2 div.sk-label-container {text-align: center;}#sk-container-id-2 div.sk-container {/* jupyter's `normalize.less` sets `[hidden] { display: none; }` but bootstrap.min.css set `[hidden] { display: none !important; }` so we also need the `!important` here to be able to override the default hidden behavior on the sphinx rendered scikit-learn.org. See: https://github.com/scikit-learn/scikit-learn/issues/21755 */display: inline-block !important;position: relative;}#sk-container-id-2 div.sk-text-repr-fallback {display: none;}</style><div id=\"sk-container-id-2\" class=\"sk-top-container\"><div class=\"sk-text-repr-fallback\"><pre>SVC(C=100, cache_size=400000, gamma=0.001, probability=True)</pre><b>In a Jupyter environment, please rerun this cell to show the HTML representation or trust the notebook. <br />On GitHub, the HTML representation is unable to render, please try loading this page with nbviewer.org.</b></div><div class=\"sk-container\" hidden><div class=\"sk-item\"><div class=\"sk-estimator sk-toggleable\"><input class=\"sk-toggleable__control sk-hidden--visually\" id=\"sk-estimator-id-2\" type=\"checkbox\" checked><label for=\"sk-estimator-id-2\" class=\"sk-toggleable__label sk-toggleable__label-arrow\">SVC</label><div class=\"sk-toggleable__content\"><pre>SVC(C=100, cache_size=400000, gamma=0.001, probability=True)</pre></div></div></div></div></div>"
      ],
      "text/plain": [
       "SVC(C=100, cache_size=400000, gamma=0.001, probability=True)"
      ]
     },
     "execution_count": 46,
     "metadata": {},
     "output_type": "execute_result"
    }
   ],
   "source": [
    "clf.fit(X, Y)"
   ]
  },
  {
   "cell_type": "code",
   "execution_count": 47,
   "id": "4275d2f6-63fa-41a8-9d64-2eb927811679",
   "metadata": {
    "tags": []
   },
   "outputs": [],
   "source": [
    "# test the model on test dataset\n",
    "adata_test = sc.read_h5ad(\"/home/chutianhao/R/Projects/snRNA_scRNA_hcc/project/svm/data/sc_human_test.h5ad\")"
   ]
  },
  {
   "cell_type": "code",
   "execution_count": 48,
   "id": "93ba63c1-a053-459c-8708-daccc08dafad",
   "metadata": {
    "tags": []
   },
   "outputs": [
    {
     "data": {
      "text/plain": [
       "AnnData object with n_obs × n_vars = 854 × 300\n",
       "    obs: 'nCount_RNA', 'nFeature_RNA', 'patient_id', 'condition', 'mt_ratio', 'ribo_ratio', 'S.Score', 'G2M.Score', 'Phase', 'clusters', 'clusters_2'\n",
       "    var: 'vst.mean', 'vst.variance', 'vst.variance.expected', 'vst.variance.standardized'\n",
       "    obsm: 'X_pca', 'X_scanvi', 'X_scvi', 'X_umap'"
      ]
     },
     "execution_count": 48,
     "metadata": {},
     "output_type": "execute_result"
    }
   ],
   "source": [
    "adata_test"
   ]
  },
  {
   "cell_type": "code",
   "execution_count": 49,
   "id": "d9a80694-793e-4c43-ba30-387bd5ed294a",
   "metadata": {
    "tags": []
   },
   "outputs": [],
   "source": [
    "X_test = adata_test.X.copy()\n",
    "Y_test = adata_test.obs.copy()"
   ]
  },
  {
   "cell_type": "code",
   "execution_count": 50,
   "id": "84742462-2739-4b5f-9722-9729d8b9f0a0",
   "metadata": {
    "tags": []
   },
   "outputs": [],
   "source": [
    "X_test = X_test.toarray()\n",
    "X_test = scaler.fit_transform(X_test)"
   ]
  },
  {
   "cell_type": "code",
   "execution_count": 51,
   "id": "62d6949d-c358-4324-b51c-6211b6476548",
   "metadata": {
    "tags": []
   },
   "outputs": [
    {
     "data": {
      "text/plain": [
       "(854, 300)"
      ]
     },
     "execution_count": 51,
     "metadata": {},
     "output_type": "execute_result"
    }
   ],
   "source": [
    "X_test.shape"
   ]
  },
  {
   "cell_type": "code",
   "execution_count": 52,
   "id": "5dcb4589-3bbf-4d61-8207-eedf8d81d42f",
   "metadata": {
    "tags": []
   },
   "outputs": [],
   "source": [
    "Y_test = Y_test.loc[:, group]"
   ]
  },
  {
   "cell_type": "code",
   "execution_count": 53,
   "id": "5e275b86-7245-4de7-b9b4-644d9c8bc43b",
   "metadata": {
    "tags": []
   },
   "outputs": [],
   "source": [
    "Y_test = Y_test.values.to_list()"
   ]
  },
  {
   "cell_type": "code",
   "execution_count": 54,
   "id": "acfa47b8-3212-46d9-8c0a-ded8d0dfad38",
   "metadata": {
    "tags": []
   },
   "outputs": [],
   "source": [
    "Y_pred = clf.predict(X_test)"
   ]
  },
  {
   "cell_type": "code",
   "execution_count": 55,
   "id": "8dd7f657-21bc-466b-8bfe-8785a295cf57",
   "metadata": {
    "tags": []
   },
   "outputs": [],
   "source": [
    "Y_proba = clf.predict_proba(X_test)"
   ]
  },
  {
   "cell_type": "code",
   "execution_count": 56,
   "id": "fb69c2f6-34a3-41f8-becd-08bf6c1283e9",
   "metadata": {
    "tags": []
   },
   "outputs": [],
   "source": [
    "Y_pred = Y_pred.tolist()"
   ]
  },
  {
   "cell_type": "code",
   "execution_count": 57,
   "id": "bd1a6f11-8e0e-45cb-9960-58b3fe4dd580",
   "metadata": {
    "tags": []
   },
   "outputs": [],
   "source": [
    "match = [i for i, j in zip(Y_test, Y_pred) if i == j]\n",
    "nomatch = [i for i, j in zip(Y_test, Y_pred) if i != j]"
   ]
  },
  {
   "cell_type": "code",
   "execution_count": 58,
   "id": "b6e7f9ea-a9e6-4549-98bc-797457984962",
   "metadata": {
    "tags": []
   },
   "outputs": [
    {
     "name": "stdout",
     "output_type": "stream",
     "text": [
      "784 70 854\n"
     ]
    }
   ],
   "source": [
    "print(len(match), len(nomatch), len(Y_pred))"
   ]
  },
  {
   "cell_type": "code",
   "execution_count": 59,
   "id": "33aaec4c-bcf6-490a-873a-b02175f399fa",
   "metadata": {
    "tags": []
   },
   "outputs": [],
   "source": [
    "# calculate the model precision, recall and F1-score\n",
    "from sklearn import metrics"
   ]
  },
  {
   "cell_type": "code",
   "execution_count": 60,
   "id": "580eb7ba-f183-4ab9-a3c6-3aebe2df4b7f",
   "metadata": {
    "tags": []
   },
   "outputs": [
    {
     "name": "stdout",
     "output_type": "stream",
     "text": [
      "                   precision    recall  f1-score   support\n",
      "\n",
      "          B cells      0.929     0.648     0.763       122\n",
      "              CAF      0.992     0.967     0.979       122\n",
      "Endothelial cells      0.983     0.967     0.975       122\n",
      "      Hepatocytes      0.974     0.934     0.954       122\n",
      "    Myeloid cells      0.921     0.951     0.935       122\n",
      "     Plasma cells      0.992     0.984     0.988       122\n",
      "             T/NK      0.717     0.975     0.826       122\n",
      "\n",
      "         accuracy                          0.918       854\n",
      "        macro avg      0.930     0.918     0.917       854\n",
      "     weighted avg      0.930     0.918     0.917       854\n",
      "\n"
     ]
    }
   ],
   "source": [
    "print(metrics.classification_report(Y_test, Y_pred, digits=3))"
   ]
  },
  {
   "cell_type": "code",
   "execution_count": 61,
   "id": "70ee812e-54fc-4ddf-8d5c-1822b613ddea",
   "metadata": {
    "tags": []
   },
   "outputs": [],
   "source": [
    "# save the trained svm model\n",
    "import pickle"
   ]
  },
  {
   "cell_type": "code",
   "execution_count": 62,
   "id": "ada1053c-8933-4ec6-b982-d9c4b482a19e",
   "metadata": {
    "tags": []
   },
   "outputs": [],
   "source": [
    "filename = \"svm_model_landscape.pickle\""
   ]
  },
  {
   "cell_type": "code",
   "execution_count": 63,
   "id": "f4a86d4e-f252-4f63-9334-538a65b3fa13",
   "metadata": {
    "tags": []
   },
   "outputs": [],
   "source": [
    "pickle.dump(clf, open(filename, \"wb\"))\n",
    "# when load the model, use pickle.load(open(filename, \"rb\"))"
   ]
  },
  {
   "cell_type": "code",
   "execution_count": null,
   "id": "4c63acb7-0d83-4567-9311-8f5774146513",
   "metadata": {},
   "outputs": [],
   "source": []
  }
 ],
 "metadata": {
  "kernelspec": {
   "display_name": "scverse",
   "language": "python",
   "name": "scverse"
  },
  "language_info": {
   "codemirror_mode": {
    "name": "ipython",
    "version": 3
   },
   "file_extension": ".py",
   "mimetype": "text/x-python",
   "name": "python",
   "nbconvert_exporter": "python",
   "pygments_lexer": "ipython3",
   "version": "3.9.16"
  }
 },
 "nbformat": 4,
 "nbformat_minor": 5
}
